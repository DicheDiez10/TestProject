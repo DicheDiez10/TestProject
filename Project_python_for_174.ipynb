{
  "nbformat": 4,
  "nbformat_minor": 0,
  "metadata": {
    "colab": {
      "name": "Project python for 174",
      "provenance": [],
      "collapsed_sections": [],
      "include_colab_link": true
    },
    "kernelspec": {
      "name": "python3",
      "display_name": "Python 3"
    },
    "language_info": {
      "name": "python"
    }
  },
  "cells": [
    {
      "cell_type": "markdown",
      "metadata": {
        "id": "view-in-github",
        "colab_type": "text"
      },
      "source": [
        "<a href=\"https://colab.research.google.com/github/DicheDiez10/TestProject/blob/main/Project_python_for_174.ipynb\" target=\"_parent\"><img src=\"https://colab.research.google.com/assets/colab-badge.svg\" alt=\"Open In Colab\"/></a>"
      ]
    },
    {
      "cell_type": "markdown",
      "metadata": {
        "id": "u5fALuKoGe3C"
      },
      "source": [
        "##Here is the code for BiDirectional Search in Python"
      ]
    },
    {
      "cell_type": "code",
      "metadata": {
        "id": "L0cqcj2pGjAt"
      },
      "source": [
        ""
      ],
      "execution_count": null,
      "outputs": []
    },
    {
      "cell_type": "code",
      "metadata": {
        "colab": {
          "base_uri": "https://localhost:8080/"
        },
        "id": "mqygcB4zMZzl",
        "outputId": "11cbbd7d-a632-4d1c-b9b7-d6f5baca1c6e"
      },
      "source": [
        "# Python3 program for Bidirectional BFS\n",
        "# Search to check path between two vertices\n",
        " \n",
        "# Class definition for node to\n",
        "# be added to graph\n",
        "class AdjacentNode:\n",
        "     \n",
        "    def __init__(self, vertex):\n",
        "         \n",
        "        self.vertex = vertex\n",
        "        self.next = None\n",
        " \n",
        "# BidirectionalSearch implementation\n",
        "class BidirectionalSearch:\n",
        "     \n",
        "    def __init__(self, vertices):\n",
        "         \n",
        "        # Initialize vertices and\n",
        "        # graph with vertices\n",
        "        self.vertices = vertices\n",
        "        self.graph = [None] * self.vertices\n",
        "         \n",
        "        # Initializing queue for forward\n",
        "        # and backward search\n",
        "        self.src_queue = list()\n",
        "        self.dest_queue = list()\n",
        "         \n",
        "        # Initializing source and\n",
        "        # destination visited nodes as False\n",
        "        self.src_visited = [False] * self.vertices\n",
        "        self.dest_visited = [False] * self.vertices\n",
        "         \n",
        "        # Initializing source and destination\n",
        "        # parent nodes\n",
        "        self.src_parent = [None] * self.vertices\n",
        "        self.dest_parent = [None] * self.vertices\n",
        "         \n",
        "    # Function for adding undirected edge\n",
        "    def add_edge(self, src, dest):\n",
        "         \n",
        "        # Add edges to graph\n",
        "         \n",
        "        # Add source to destination\n",
        "        node = AdjacentNode(dest)\n",
        "        node.next = self.graph[src]\n",
        "        self.graph[src] = node\n",
        " \n",
        "        # Since graph is undirected add\n",
        "        # destination to source\n",
        "        node = AdjacentNode(src)\n",
        "        node.next = self.graph[dest]\n",
        "        self.graph[dest] = node\n",
        "         \n",
        "    # Function for Breadth First Search\n",
        "    def bfs(self, direction = 'forward'):\n",
        "         \n",
        "        if direction == 'forward':\n",
        "             \n",
        "            # BFS in forward direction\n",
        "            current = self.src_queue.pop(0)\n",
        "            connected_node = self.graph[current]\n",
        "             \n",
        "            while connected_node:\n",
        "                vertex = connected_node.vertex\n",
        "                 \n",
        "                if not self.src_visited[vertex]:\n",
        "                    self.src_queue.append(vertex)\n",
        "                    self.src_visited[vertex] = True\n",
        "                    self.src_parent[vertex] = current\n",
        "                     \n",
        "                connected_node = connected_node.next\n",
        "        else:\n",
        "             \n",
        "            # BFS in backward direction\n",
        "            current = self.dest_queue.pop(0)\n",
        "            connected_node = self.graph[current]\n",
        "             \n",
        "            while connected_node:\n",
        "                vertex = connected_node.vertex\n",
        "                 \n",
        "                if not self.dest_visited[vertex]:\n",
        "                    self.dest_queue.append(vertex)\n",
        "                    self.dest_visited[vertex] = True\n",
        "                    self.dest_parent[vertex] = current\n",
        "                     \n",
        "                connected_node = connected_node.next\n",
        "                 \n",
        "    # Check for intersecting vertex\n",
        "    def is_intersecting(self):\n",
        "         \n",
        "        # Returns intersecting node\n",
        "        # if present else -1\n",
        "        for i in range(self.vertices):\n",
        "            if (self.src_visited[i] and\n",
        "                self.dest_visited[i]):\n",
        "                return i\n",
        "                 \n",
        "        return -1\n",
        " \n",
        "    # Print the path from source to target\n",
        "    def print_path(self, intersecting_node,\n",
        "                   src, dest):\n",
        "                        \n",
        "        # Print final path from\n",
        "        # source to destination\n",
        "        path = list()\n",
        "        path.append(intersecting_node)\n",
        "        i = intersecting_node\n",
        "         \n",
        "        while i != src:\n",
        "            path.append(self.src_parent[i])\n",
        "            i = self.src_parent[i]\n",
        "             \n",
        "        path = path[::-1]\n",
        "        i = intersecting_node\n",
        "         \n",
        "        while i != dest:\n",
        "            path.append(self.dest_parent[i])\n",
        "            i = self.dest_parent[i]\n",
        "             \n",
        "        print(\"*****Path*****\")\n",
        "        path = list(map(str, path))\n",
        "         \n",
        "        print(' '.join(path))\n",
        "     \n",
        "    # Function for bidirectional searching\n",
        "    def bidirectional_search(self, src, dest):\n",
        "         \n",
        "        # Add source to queue and mark\n",
        "        # visited as True and add its\n",
        "        # parent as -1\n",
        "        self.src_queue.append(src)\n",
        "        self.src_visited[src] = True\n",
        "        self.src_parent[src] = -1\n",
        "         \n",
        "        # Add destination to queue and\n",
        "        # mark visited as True and add\n",
        "        # its parent as -1\n",
        "        self.dest_queue.append(dest)\n",
        "        self.dest_visited[dest] = True\n",
        "        self.dest_parent[dest] = -1\n",
        " \n",
        "        while self.src_queue and self.dest_queue:\n",
        "             \n",
        "            # BFS in forward direction from\n",
        "            # Source Vertex\n",
        "            self.bfs(direction = 'forward')\n",
        "             \n",
        "            # BFS in reverse direction\n",
        "            # from Destination Vertex\n",
        "            self.bfs(direction = 'backward')\n",
        "             \n",
        "            # Check for intersecting vertex\n",
        "            intersecting_node = self.is_intersecting()\n",
        "             \n",
        "            # If intersecting vertex exists\n",
        "            # then path from source to\n",
        "            # destination exists\n",
        "            if intersecting_node != -1:\n",
        "                print(f\"Path exists between {src} and {dest}\")\n",
        "                print(f\"Intersection at : {intersecting_node}\")\n",
        "                self.print_path(intersecting_node,\n",
        "                                src, dest)\n",
        "                \n",
        "                return 1\n",
        "        return -1\n",
        "\n",
        "\n",
        "    \n",
        "\n",
        "# Driver code\n",
        "if __name__ == '__main__':\n",
        "     \n",
        "    from tkinter import *\n",
        "\n",
        "\n",
        "    # Function for bidirectional searching\n",
        "    def makeNewGraph(numVert, CSVArrayInfo):\n",
        "      print(\"YOU ACCESSED THE NEW FUNC\")\n",
        "      #create a graph we will use\n",
        "      graphFromFunc = BidirectionalSearch(n)\n",
        "\n",
        "      #going through the array of tuples\n",
        "      for x in CSVArrayInfo:\n",
        "        print(x , \"\\n\")\n",
        "        print(x[0], x[1], x[2])\n",
        "        graphFromFunc.add_edge(x[0],x[1])\n",
        "\n",
        "        #for y in x:\n",
        "          #print(y)\n",
        "      \n",
        "      return graphFromFunc\n",
        "      \n",
        "\n",
        "\n",
        "    #---------------------------------------------------------------\n",
        "    # Number of Vertices in graph\n",
        "    n = 17\n",
        "     \n",
        "    # Source Vertex\n",
        "    src = 0\n",
        "     \n",
        "    # Destination Vertex\n",
        "    dest = 14\n",
        "\n",
        "    #-----------------------\n",
        "    #Test\n",
        "    TestArray = [(0 , 4, 3), (1, 4, 2), (4 , 6 , 3)]\n",
        "    SrcArray = []\n",
        "    DestArray = []\n",
        "\n",
        "    for a_tuple in TestArray:\n",
        "      SrcArray.append(a_tuple[0])\n",
        "      DestArray.append(a_tuple[1])\n",
        "\n",
        "\n",
        "    #testing the outputs of the new arrays\n",
        "    \n",
        "    for i in SrcArray:\n",
        "      print(i)\n",
        "\n",
        "    print(\"\\n-------\", \"\\n\")\n",
        "    for i in DestArray:\n",
        "      print(i)\n",
        "\n",
        "    #new graph function\n",
        "    testNewGraph = makeNewGraph(n, TestArray)\n",
        "\n",
        "\n",
        "    # need these things\n",
        "    #1. put the CSV into an array\n",
        "    #2. get the list of srcs into a src array  \n",
        "    #2. get the list of targets into a target array  \n",
        "    #3. create a dropdown list for both array and set the selection to a varaible\n",
        "    #2. get from dropdown menu the src and dest vertex num\n",
        "    #3. call makeNewGraph\n",
        "    #4. label an out variable to check if there is not a path between two points\n",
        "    #-----------------------"
      ],
      "execution_count": null,
      "outputs": [
        {
          "output_type": "stream",
          "name": "stdout",
          "text": [
            "0\n",
            "1\n",
            "4\n",
            "\n",
            "------- \n",
            "\n",
            "4\n",
            "4\n",
            "6\n",
            "YOU ACCESSED THE NEW FUNC\n",
            "(0, 4, 3) \n",
            "\n",
            "0 4 3\n",
            "(1, 4, 2) \n",
            "\n",
            "1 4 2\n",
            "(4, 6, 3) \n",
            "\n",
            "4 6 3\n"
          ]
        }
      ]
    },
    {
      "cell_type": "code",
      "metadata": {
        "id": "WQuHf4zWI13D"
      },
      "source": [
        "Form_Dropdown_Src = \"Mckee Fisk\" #@param [\"Mckee Fisk\", \"Library\"]\n",
        "Form_Dropdown_Dest = \"g\" #@param [\"a\", \"b\", \"c\", \"d\", \"e\", \"f\", \"g\", \"h\", \"i\", \"j\", \"k\", \"l\", \"m\", \"n\", \"o\", \"p\"]"
      ],
      "execution_count": null,
      "outputs": []
    },
    {
      "cell_type": "code",
      "metadata": {
        "id": "FKGi02VpEIpR",
        "colab": {
          "base_uri": "https://localhost:8080/"
        },
        "outputId": "5d4661cd-599d-4a57-ac71-239146fa7398"
      },
      "source": [
        "#switch statement to set the source and dest node numbers based on the dropdown menu location searched\n",
        "\n",
        "src_node = {\n",
        "  \"Mckee Fisk\": 0,\n",
        "  \"Library\": 1\n",
        "}\n",
        "test_Src_Output = src_node.get(Form_Dropdown_Src, \"Invalid Source\")\n",
        "print(test)"
      ],
      "execution_count": null,
      "outputs": [
        {
          "output_type": "execute_result",
          "data": {
            "text/plain": [
              "0"
            ]
          },
          "metadata": {},
          "execution_count": 38
        }
      ]
    },
    {
      "cell_type": "code",
      "metadata": {
        "id": "7QShDHiOI4W3"
      },
      "source": [
        "switch_src(\"Mckee Fisk\")"
      ],
      "execution_count": null,
      "outputs": []
    },
    {
      "cell_type": "code",
      "metadata": {
        "id": "0vPAWA22TCkR"
      },
      "source": [
        ""
      ],
      "execution_count": null,
      "outputs": []
    },
    {
      "cell_type": "code",
      "metadata": {
        "colab": {
          "base_uri": "https://localhost:8080/"
        },
        "id": "LqeXkB-_GuWX",
        "outputId": "fa22425d-c631-4f28-e567-5deb83fd6a83"
      },
      "source": [
        "\n",
        "out2 = testNewGraph.bidirectional_search(0, 1)\n",
        "     \n",
        "if out2 == -1:\n",
        "    print(f\"Path does not exist between {src} and {dest}\")"
      ],
      "execution_count": null,
      "outputs": [
        {
          "output_type": "stream",
          "name": "stdout",
          "text": [
            "Path exists between 0 and 1\n",
            "Intersection at : 4\n",
            "*****Path*****\n",
            "0 4 1\n"
          ]
        }
      ]
    },
    {
      "cell_type": "markdown",
      "metadata": {
        "id": "8QiGpaNXtlYv"
      },
      "source": [
        "#TESTING"
      ]
    },
    {
      "cell_type": "code",
      "metadata": {
        "id": "AxZ-bOlq2byX"
      },
      "source": [
        "#importing libraries here\n",
        "import pandas as pd"
      ],
      "execution_count": 4,
      "outputs": []
    },
    {
      "cell_type": "code",
      "metadata": {
        "id": "BWnzU6Fmtmo7",
        "colab": {
          "base_uri": "https://localhost:8080/",
          "height": 206
        },
        "outputId": "fc80a578-1f15-44d2-9f31-c7e12f97737f"
      },
      "source": [
        "#pulling from the github public file\n",
        "CSV_DATA = pd.read_csv('https://raw.githubusercontent.com/DicheDiez10/TestProject/main/CSCI_174_Nodes_and_Weights.csv')\n",
        "\n",
        "#output first 5 rows of data\n",
        "CSV_DATA.head()\n"
      ],
      "execution_count": 7,
      "outputs": [
        {
          "output_type": "execute_result",
          "data": {
            "text/html": [
              "<div>\n",
              "<style scoped>\n",
              "    .dataframe tbody tr th:only-of-type {\n",
              "        vertical-align: middle;\n",
              "    }\n",
              "\n",
              "    .dataframe tbody tr th {\n",
              "        vertical-align: top;\n",
              "    }\n",
              "\n",
              "    .dataframe thead th {\n",
              "        text-align: right;\n",
              "    }\n",
              "</style>\n",
              "<table border=\"1\" class=\"dataframe\">\n",
              "  <thead>\n",
              "    <tr style=\"text-align: right;\">\n",
              "      <th></th>\n",
              "      <th>Start_Node</th>\n",
              "      <th>End_Node</th>\n",
              "      <th>Edge_Weight_Seconds</th>\n",
              "    </tr>\n",
              "  </thead>\n",
              "  <tbody>\n",
              "    <tr>\n",
              "      <th>0</th>\n",
              "      <td>1</td>\n",
              "      <td>2</td>\n",
              "      <td>1</td>\n",
              "    </tr>\n",
              "    <tr>\n",
              "      <th>1</th>\n",
              "      <td>1</td>\n",
              "      <td>3</td>\n",
              "      <td>3</td>\n",
              "    </tr>\n",
              "    <tr>\n",
              "      <th>2</th>\n",
              "      <td>3</td>\n",
              "      <td>4</td>\n",
              "      <td>5</td>\n",
              "    </tr>\n",
              "    <tr>\n",
              "      <th>3</th>\n",
              "      <td>2</td>\n",
              "      <td>4</td>\n",
              "      <td>5</td>\n",
              "    </tr>\n",
              "    <tr>\n",
              "      <th>4</th>\n",
              "      <td>3</td>\n",
              "      <td>7</td>\n",
              "      <td>1</td>\n",
              "    </tr>\n",
              "  </tbody>\n",
              "</table>\n",
              "</div>"
            ],
            "text/plain": [
              "   Start_Node  End_Node  Edge_Weight_Seconds\n",
              "0           1         2                    1\n",
              "1           1         3                    3\n",
              "2           3         4                    5\n",
              "3           2         4                    5\n",
              "4           3         7                    1"
            ]
          },
          "metadata": {},
          "execution_count": 7
        }
      ]
    },
    {
      "cell_type": "code",
      "metadata": {
        "id": "DQr7cEx32yCq",
        "outputId": "97d410e6-a242-4916-9cca-e115c066b18b",
        "colab": {
          "base_uri": "https://localhost:8080/"
        }
      },
      "source": [
        "#Setting the CSV data to a list form\n",
        "CSV_DATA_LIST = CSV_DATA.values.tolist()\n",
        "\n",
        "#Output to test we have our values in sets of triplet tuples\n",
        "for x in CSV_DATA_LIST:\n",
        "  print(x)"
      ],
      "execution_count": 9,
      "outputs": [
        {
          "output_type": "stream",
          "name": "stdout",
          "text": [
            "[1, 2, 1]\n",
            "[1, 3, 3]\n",
            "[3, 4, 5]\n",
            "[2, 4, 5]\n",
            "[3, 7, 1]\n",
            "[2, 6, 1]\n",
            "[4, 5, 5]\n",
            "[5, 6, 5]\n",
            "[4, 7, 5]\n",
            "[7, 6, 1]\n"
          ]
        }
      ]
    },
    {
      "cell_type": "code",
      "metadata": {
        "colab": {
          "base_uri": "https://localhost:8080/"
        },
        "id": "EgJ6k862vi4c",
        "outputId": "c38c3859-37ef-4bc5-b6b3-81928a48e93e"
      },
      "source": [
        "print (CSV_DATA_LIST)"
      ],
      "execution_count": 10,
      "outputs": [
        {
          "output_type": "stream",
          "name": "stdout",
          "text": [
            "[[1, 2, 1], [1, 3, 3], [3, 4, 5], [2, 4, 5], [3, 7, 1], [2, 6, 1], [4, 5, 5], [5, 6, 5], [4, 7, 5], [7, 6, 1]]\n"
          ]
        }
      ]
    },
    {
      "cell_type": "code",
      "metadata": {
        "id": "_B7u2cZL4wmO",
        "outputId": "318a8369-359d-4174-fd8d-fec81d6a64b4",
        "colab": {
          "base_uri": "https://localhost:8080/"
        }
      },
      "source": [
        "#Now we place the start_node and end_note into their respective arrays\n",
        "\n",
        "#Setting up initial nodes\n",
        "Start_Node_Array = []\n",
        "End_Node_Array = []\n",
        "for a_tuple in CSV_DATA_LIST:\n",
        "    Start_Node_Array.append(a_tuple[0])\n",
        "    End_Node_Array.append(a_tuple[1])\n",
        "\n",
        "#Outputting our checked results\n",
        "print (\"Start Node Array:\")\n",
        "print (Start_Node_Array)\n",
        "\n",
        "print (\"End Node Array:\")\n",
        "print (End_Node_Array)"
      ],
      "execution_count": 12,
      "outputs": [
        {
          "output_type": "stream",
          "name": "stdout",
          "text": [
            "Start Node Array:\n",
            "[1, 1, 3, 2, 3, 2, 4, 5, 4, 7]\n",
            "End Node Array:\n",
            "[2, 3, 4, 4, 7, 6, 5, 6, 7, 6]\n"
          ]
        }
      ]
    },
    {
      "cell_type": "code",
      "metadata": {
        "id": "EYQk5qFL5r4m",
        "outputId": "5d84389f-24a4-4d69-fa66-b7a2463e652c",
        "colab": {
          "base_uri": "https://localhost:8080/"
        }
      },
      "source": [
        "#Combined list of start_node and end_node\n",
        "Start_and_End_Nodes_Array = Start_Node_Array + End_Node_Array\n",
        "\n",
        "print(Start_and_End_Nodes_Array)"
      ],
      "execution_count": 13,
      "outputs": [
        {
          "output_type": "stream",
          "name": "stdout",
          "text": [
            "[1, 1, 3, 2, 3, 2, 4, 5, 4, 7, 2, 3, 4, 4, 7, 6, 5, 6, 7, 6]\n"
          ]
        }
      ]
    },
    {
      "cell_type": "code",
      "metadata": {
        "id": "bjkOZEpi8FKd",
        "outputId": "818e5ca0-c8eb-4f5d-b2ba-c52f9d41ca41",
        "colab": {
          "base_uri": "https://localhost:8080/"
        }
      },
      "source": [
        "# Now we need to take the unique values\n",
        "# This will get us the number of nodes in the list\n",
        "Unique_Nodes_Filtered = set(Start_and_End_Nodes_Array)\n",
        "\n",
        "#Changing back to a list\n",
        "Unique_Nodes_Array = list(Unique_Nodes_Filtered)\n",
        "\n",
        "#Number of nodes\n",
        "Num_Nodes = len(Unique_Nodes_Array)\n",
        "\n",
        "print(Unique_Nodes_Filtered)\n",
        "print(Unique_Nodes_Array)\n",
        "print(Num_Nodes)"
      ],
      "execution_count": 21,
      "outputs": [
        {
          "output_type": "stream",
          "name": "stdout",
          "text": [
            "{1, 2, 3, 4, 5, 6, 7}\n",
            "[1, 2, 3, 4, 5, 6, 7]\n",
            "7\n"
          ]
        }
      ]
    },
    {
      "cell_type": "code",
      "metadata": {
        "id": "FSt9ZaH-9A8F"
      },
      "source": [
        "# Setting up the forms\n",
        "# Can select start and end node locations\n",
        "\n",
        "Form_Start_Node_Text = \"b\" #@param [\"a\", \"b\", \"c\", \"d\", \"e\", \"f\", \"g\"]\n",
        "Form_End_Node_Text   = \"e\" #@param [\"a\", \"b\", \"c\", \"d\", \"e\", \"f\", \"g\"]"
      ],
      "execution_count": 22,
      "outputs": []
    },
    {
      "cell_type": "code",
      "metadata": {
        "id": "Ce4jlcQZDNGs"
      },
      "source": [
        ""
      ],
      "execution_count": null,
      "outputs": []
    }
  ]
}