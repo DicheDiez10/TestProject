{
  "nbformat": 4,
  "nbformat_minor": 0,
  "metadata": {
    "colab": {
      "name": "Project python for 174",
      "provenance": [],
      "collapsed_sections": [],
      "include_colab_link": true
    },
    "kernelspec": {
      "name": "python3",
      "display_name": "Python 3"
    },
    "language_info": {
      "name": "python"
    }
  },
  "cells": [
    {
      "cell_type": "markdown",
      "metadata": {
        "id": "view-in-github",
        "colab_type": "text"
      },
      "source": [
        "<a href=\"https://colab.research.google.com/github/DicheDiez10/TestProject/blob/main/Project_python_for_174.ipynb\" target=\"_parent\"><img src=\"https://colab.research.google.com/assets/colab-badge.svg\" alt=\"Open In Colab\"/></a>"
      ]
    },
    {
      "cell_type": "markdown",
      "metadata": {
        "id": "u5fALuKoGe3C"
      },
      "source": [
        "##Here is the code for BiDirectional Search in Python"
      ]
    },
    {
      "cell_type": "code",
      "metadata": {
        "id": "L0cqcj2pGjAt"
      },
      "source": [
        ""
      ],
      "execution_count": null,
      "outputs": []
    },
    {
      "cell_type": "code",
      "metadata": {
        "colab": {
          "base_uri": "https://localhost:8080/"
        },
        "id": "mqygcB4zMZzl",
        "outputId": "11cbbd7d-a632-4d1c-b9b7-d6f5baca1c6e"
      },
      "source": [
        "# Python3 program for Bidirectional BFS\n",
        "# Search to check path between two vertices\n",
        " \n",
        "# Class definition for node to\n",
        "# be added to graph\n",
        "class AdjacentNode:\n",
        "     \n",
        "    def __init__(self, vertex):\n",
        "         \n",
        "        self.vertex = vertex\n",
        "        self.next = None\n",
        " \n",
        "# BidirectionalSearch implementation\n",
        "class BidirectionalSearch:\n",
        "     \n",
        "    def __init__(self, vertices):\n",
        "         \n",
        "        # Initialize vertices and\n",
        "        # graph with vertices\n",
        "        self.vertices = vertices\n",
        "        self.graph = [None] * self.vertices\n",
        "         \n",
        "        # Initializing queue for forward\n",
        "        # and backward search\n",
        "        self.src_queue = list()\n",
        "        self.dest_queue = list()\n",
        "         \n",
        "        # Initializing source and\n",
        "        # destination visited nodes as False\n",
        "        self.src_visited = [False] * self.vertices\n",
        "        self.dest_visited = [False] * self.vertices\n",
        "         \n",
        "        # Initializing source and destination\n",
        "        # parent nodes\n",
        "        self.src_parent = [None] * self.vertices\n",
        "        self.dest_parent = [None] * self.vertices\n",
        "         \n",
        "    # Function for adding undirected edge\n",
        "    def add_edge(self, src, dest):\n",
        "         \n",
        "        # Add edges to graph\n",
        "         \n",
        "        # Add source to destination\n",
        "        node = AdjacentNode(dest)\n",
        "        node.next = self.graph[src]\n",
        "        self.graph[src] = node\n",
        " \n",
        "        # Since graph is undirected add\n",
        "        # destination to source\n",
        "        node = AdjacentNode(src)\n",
        "        node.next = self.graph[dest]\n",
        "        self.graph[dest] = node\n",
        "         \n",
        "    # Function for Breadth First Search\n",
        "    def bfs(self, direction = 'forward'):\n",
        "         \n",
        "        if direction == 'forward':\n",
        "             \n",
        "            # BFS in forward direction\n",
        "            current = self.src_queue.pop(0)\n",
        "            connected_node = self.graph[current]\n",
        "             \n",
        "            while connected_node:\n",
        "                vertex = connected_node.vertex\n",
        "                 \n",
        "                if not self.src_visited[vertex]:\n",
        "                    self.src_queue.append(vertex)\n",
        "                    self.src_visited[vertex] = True\n",
        "                    self.src_parent[vertex] = current\n",
        "                     \n",
        "                connected_node = connected_node.next\n",
        "        else:\n",
        "             \n",
        "            # BFS in backward direction\n",
        "            current = self.dest_queue.pop(0)\n",
        "            connected_node = self.graph[current]\n",
        "             \n",
        "            while connected_node:\n",
        "                vertex = connected_node.vertex\n",
        "                 \n",
        "                if not self.dest_visited[vertex]:\n",
        "                    self.dest_queue.append(vertex)\n",
        "                    self.dest_visited[vertex] = True\n",
        "                    self.dest_parent[vertex] = current\n",
        "                     \n",
        "                connected_node = connected_node.next\n",
        "                 \n",
        "    # Check for intersecting vertex\n",
        "    def is_intersecting(self):\n",
        "         \n",
        "        # Returns intersecting node\n",
        "        # if present else -1\n",
        "        for i in range(self.vertices):\n",
        "            if (self.src_visited[i] and\n",
        "                self.dest_visited[i]):\n",
        "                return i\n",
        "                 \n",
        "        return -1\n",
        " \n",
        "    # Print the path from source to target\n",
        "    def print_path(self, intersecting_node,\n",
        "                   src, dest):\n",
        "                        \n",
        "        # Print final path from\n",
        "        # source to destination\n",
        "        path = list()\n",
        "        path.append(intersecting_node)\n",
        "        i = intersecting_node\n",
        "         \n",
        "        while i != src:\n",
        "            path.append(self.src_parent[i])\n",
        "            i = self.src_parent[i]\n",
        "             \n",
        "        path = path[::-1]\n",
        "        i = intersecting_node\n",
        "         \n",
        "        while i != dest:\n",
        "            path.append(self.dest_parent[i])\n",
        "            i = self.dest_parent[i]\n",
        "             \n",
        "        print(\"*****Path*****\")\n",
        "        path = list(map(str, path))\n",
        "         \n",
        "        print(' '.join(path))\n",
        "     \n",
        "    # Function for bidirectional searching\n",
        "    def bidirectional_search(self, src, dest):\n",
        "         \n",
        "        # Add source to queue and mark\n",
        "        # visited as True and add its\n",
        "        # parent as -1\n",
        "        self.src_queue.append(src)\n",
        "        self.src_visited[src] = True\n",
        "        self.src_parent[src] = -1\n",
        "         \n",
        "        # Add destination to queue and\n",
        "        # mark visited as True and add\n",
        "        # its parent as -1\n",
        "        self.dest_queue.append(dest)\n",
        "        self.dest_visited[dest] = True\n",
        "        self.dest_parent[dest] = -1\n",
        " \n",
        "        while self.src_queue and self.dest_queue:\n",
        "             \n",
        "            # BFS in forward direction from\n",
        "            # Source Vertex\n",
        "            self.bfs(direction = 'forward')\n",
        "             \n",
        "            # BFS in reverse direction\n",
        "            # from Destination Vertex\n",
        "            self.bfs(direction = 'backward')\n",
        "             \n",
        "            # Check for intersecting vertex\n",
        "            intersecting_node = self.is_intersecting()\n",
        "             \n",
        "            # If intersecting vertex exists\n",
        "            # then path from source to\n",
        "            # destination exists\n",
        "            if intersecting_node != -1:\n",
        "                print(f\"Path exists between {src} and {dest}\")\n",
        "                print(f\"Intersection at : {intersecting_node}\")\n",
        "                self.print_path(intersecting_node,\n",
        "                                src, dest)\n",
        "                \n",
        "                return 1\n",
        "        return -1\n",
        "\n",
        "\n",
        "    \n",
        "\n",
        "# Driver code\n",
        "if __name__ == '__main__':\n",
        "     \n",
        "    from tkinter import *\n",
        "\n",
        "\n",
        "    # Function for bidirectional searching\n",
        "    def makeNewGraph(numVert, CSVArrayInfo):\n",
        "      print(\"YOU ACCESSED THE NEW FUNC\")\n",
        "      #create a graph we will use\n",
        "      graphFromFunc = BidirectionalSearch(n)\n",
        "\n",
        "      #going through the array of tuples\n",
        "      for x in CSVArrayInfo:\n",
        "        print(x , \"\\n\")\n",
        "        print(x[0], x[1], x[2])\n",
        "        graphFromFunc.add_edge(x[0],x[1])\n",
        "\n",
        "        #for y in x:\n",
        "          #print(y)\n",
        "      \n",
        "      return graphFromFunc\n",
        "      \n",
        "\n",
        "\n",
        "    #---------------------------------------------------------------\n",
        "    # Number of Vertices in graph\n",
        "    n = 17\n",
        "     \n",
        "    # Source Vertex\n",
        "    src = 0\n",
        "     \n",
        "    # Destination Vertex\n",
        "    dest = 14\n",
        "\n",
        "    #-----------------------\n",
        "    #Test\n",
        "    TestArray = [(0 , 4, 3), (1, 4, 2), (4 , 6 , 3)]\n",
        "    SrcArray = []\n",
        "    DestArray = []\n",
        "\n",
        "    for a_tuple in TestArray:\n",
        "      SrcArray.append(a_tuple[0])\n",
        "      DestArray.append(a_tuple[1])\n",
        "\n",
        "\n",
        "    #testing the outputs of the new arrays\n",
        "    \n",
        "    for i in SrcArray:\n",
        "      print(i)\n",
        "\n",
        "    print(\"\\n-------\", \"\\n\")\n",
        "    for i in DestArray:\n",
        "      print(i)\n",
        "\n",
        "    #new graph function\n",
        "    testNewGraph = makeNewGraph(n, TestArray)\n",
        "\n",
        "\n",
        "    # need these things\n",
        "    #1. put the CSV into an array\n",
        "    #2. get the list of srcs into a src array  \n",
        "    #2. get the list of targets into a target array  \n",
        "    #3. create a dropdown list for both array and set the selection to a varaible\n",
        "    #2. get from dropdown menu the src and dest vertex num\n",
        "    #3. call makeNewGraph\n",
        "    #4. label an out variable to check if there is not a path between two points\n",
        "    #-----------------------"
      ],
      "execution_count": null,
      "outputs": [
        {
          "output_type": "stream",
          "name": "stdout",
          "text": [
            "0\n",
            "1\n",
            "4\n",
            "\n",
            "------- \n",
            "\n",
            "4\n",
            "4\n",
            "6\n",
            "YOU ACCESSED THE NEW FUNC\n",
            "(0, 4, 3) \n",
            "\n",
            "0 4 3\n",
            "(1, 4, 2) \n",
            "\n",
            "1 4 2\n",
            "(4, 6, 3) \n",
            "\n",
            "4 6 3\n"
          ]
        }
      ]
    },
    {
      "cell_type": "code",
      "metadata": {
        "id": "WQuHf4zWI13D"
      },
      "source": [
        "Form_Dropdown_Src = \"Mckee Fisk\" #@param [\"Mckee Fisk\", \"Library\"]\n",
        "Form_Dropdown_Dest = \"g\" #@param [\"a\", \"b\", \"c\", \"d\", \"e\", \"f\", \"g\", \"h\", \"i\", \"j\", \"k\", \"l\", \"m\", \"n\", \"o\", \"p\"]"
      ],
      "execution_count": null,
      "outputs": []
    },
    {
      "cell_type": "code",
      "metadata": {
        "id": "FKGi02VpEIpR",
        "colab": {
          "base_uri": "https://localhost:8080/"
        },
        "outputId": "5d4661cd-599d-4a57-ac71-239146fa7398"
      },
      "source": [
        "#switch statement to set the source and dest node numbers based on the dropdown menu location searched\n",
        "\n",
        "src_node = {\n",
        "  \"Mckee Fisk\": 0,\n",
        "  \"Library\": 1\n",
        "}\n",
        "test_Src_Output = src_node.get(Form_Dropdown_Src, \"Invalid Source\")\n",
        "print(test)"
      ],
      "execution_count": null,
      "outputs": [
        {
          "output_type": "execute_result",
          "data": {
            "text/plain": [
              "0"
            ]
          },
          "metadata": {},
          "execution_count": 38
        }
      ]
    },
    {
      "cell_type": "code",
      "metadata": {
        "id": "7QShDHiOI4W3"
      },
      "source": [
        "switch_src(\"Mckee Fisk\")"
      ],
      "execution_count": null,
      "outputs": []
    },
    {
      "cell_type": "code",
      "metadata": {
        "id": "0vPAWA22TCkR"
      },
      "source": [
        ""
      ],
      "execution_count": null,
      "outputs": []
    },
    {
      "cell_type": "code",
      "metadata": {
        "colab": {
          "base_uri": "https://localhost:8080/"
        },
        "id": "LqeXkB-_GuWX",
        "outputId": "fa22425d-c631-4f28-e567-5deb83fd6a83"
      },
      "source": [
        "\n",
        "out2 = testNewGraph.bidirectional_search(0, 1)\n",
        "     \n",
        "if out2 == -1:\n",
        "    print(f\"Path does not exist between {src} and {dest}\")"
      ],
      "execution_count": null,
      "outputs": [
        {
          "output_type": "stream",
          "name": "stdout",
          "text": [
            "Path exists between 0 and 1\n",
            "Intersection at : 4\n",
            "*****Path*****\n",
            "0 4 1\n"
          ]
        }
      ]
    },
    {
      "cell_type": "markdown",
      "metadata": {
        "id": "8QiGpaNXtlYv"
      },
      "source": [
        "#TESTING"
      ]
    },
    {
      "cell_type": "code",
      "metadata": {
        "id": "BWnzU6Fmtmo7"
      },
      "source": [
        ""
      ],
      "execution_count": null,
      "outputs": []
    }
  ]
}