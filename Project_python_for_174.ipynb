{
  "nbformat": 4,
  "nbformat_minor": 0,
  "metadata": {
    "colab": {
      "name": "Project python for 174",
      "provenance": [],
      "collapsed_sections": [],
      "include_colab_link": true
    },
    "kernelspec": {
      "name": "python3",
      "display_name": "Python 3"
    },
    "language_info": {
      "name": "python"
    }
  },
  "cells": [
    {
      "cell_type": "markdown",
      "metadata": {
        "id": "view-in-github",
        "colab_type": "text"
      },
      "source": [
        "<a href=\"https://colab.research.google.com/github/DicheDiez10/TestProject/blob/main/Project_python_for_174.ipynb\" target=\"_parent\"><img src=\"https://colab.research.google.com/assets/colab-badge.svg\" alt=\"Open In Colab\"/></a>"
      ]
    },
    {
      "cell_type": "markdown",
      "metadata": {
        "id": "_dtLSGqieOjO"
      },
      "source": [
        "#Bidirectional Breadth First Search (BFS) on a weighted graph."
      ]
    },
    {
      "cell_type": "markdown",
      "metadata": {
        "id": "wfbtsx6HeJ9Z"
      },
      "source": [
        "###Class and Functions"
      ]
    },
    {
      "cell_type": "code",
      "metadata": {
        "id": "mqygcB4zMZzl"
      },
      "source": [
        "# Python3 program for Bidirectional BFS\n",
        "# Search to check path between two vertices\n",
        " \n",
        "# Class definition for node to\n",
        "# be added to graph\n",
        "class AdjacentNode:\n",
        "     \n",
        "    def __init__(self, vertex):\n",
        "         \n",
        "        self.vertex = vertex\n",
        "        self.next = None\n",
        " \n",
        "# BidirectionalSearch implementation\n",
        "class BidirectionalSearch:\n",
        "     \n",
        "    def __init__(self, vertices):\n",
        "         \n",
        "        # Initialize vertices and\n",
        "        # graph with vertices\n",
        "        self.vertices = vertices\n",
        "        self.graph = [None] * self.vertices\n",
        "         \n",
        "        # Initializing queue for forward\n",
        "        # and backward search\n",
        "        self.src_queue = list()\n",
        "        self.dest_queue = list()\n",
        "         \n",
        "        # Initializing source and\n",
        "        # destination visited nodes as False\n",
        "        self.src_visited = [False] * self.vertices\n",
        "        self.dest_visited = [False] * self.vertices\n",
        "         \n",
        "        # Initializing source and destination\n",
        "        # parent nodes\n",
        "        self.src_parent = [None] * self.vertices\n",
        "        self.dest_parent = [None] * self.vertices\n",
        "         \n",
        "    # Function for adding undirected edge\n",
        "    def add_edge(self, src, dest):\n",
        "         \n",
        "        # Add edges to graph\n",
        "         \n",
        "        # Add source to destination\n",
        "        node = AdjacentNode(dest)\n",
        "        node.next = self.graph[src]\n",
        "        self.graph[src] = node\n",
        " \n",
        "        # Since graph is undirected add\n",
        "        # destination to source\n",
        "        node = AdjacentNode(src)\n",
        "        node.next = self.graph[dest]\n",
        "        self.graph[dest] = node\n",
        "         \n",
        "    # Function for Breadth First Search\n",
        "    def bfs(self, direction = 'forward'):\n",
        "         \n",
        "        if direction == 'forward':\n",
        "             \n",
        "            # BFS in forward direction\n",
        "            current = self.src_queue.pop(0)\n",
        "            connected_node = self.graph[current]\n",
        "             \n",
        "            while connected_node:\n",
        "                vertex = connected_node.vertex\n",
        "                 \n",
        "                if not self.src_visited[vertex]:\n",
        "                    self.src_queue.append(vertex)\n",
        "                    self.src_visited[vertex] = True\n",
        "                    self.src_parent[vertex] = current\n",
        "                     \n",
        "                connected_node = connected_node.next\n",
        "        else:\n",
        "             \n",
        "            # BFS in backward direction\n",
        "            current = self.dest_queue.pop(0)\n",
        "            connected_node = self.graph[current]\n",
        "             \n",
        "            while connected_node:\n",
        "                vertex = connected_node.vertex\n",
        "                 \n",
        "                if not self.dest_visited[vertex]:\n",
        "                    self.dest_queue.append(vertex)\n",
        "                    self.dest_visited[vertex] = True\n",
        "                    self.dest_parent[vertex] = current\n",
        "                     \n",
        "                connected_node = connected_node.next\n",
        "                 \n",
        "    # Check for intersecting vertex\n",
        "    def is_intersecting(self):\n",
        "         \n",
        "        # Returns intersecting node\n",
        "        # if present else -1\n",
        "        for i in range(self.vertices):\n",
        "            if (self.src_visited[i] and\n",
        "                self.dest_visited[i]):\n",
        "                return i\n",
        "                 \n",
        "        return -1\n",
        " \n",
        "    # Print the path from source to target\n",
        "    def print_path(self, intersecting_node,\n",
        "                   src, dest):\n",
        "                        \n",
        "        # Print final path from\n",
        "        # source to destination\n",
        "        PATH_L = []\n",
        "        PATH_R = []\n",
        "        TRUE_PATH_ARRAY = []\n",
        "        Path_Array_Node_Numbers = []\n",
        "        Final_Path_Array = []\n",
        "\n",
        "        path = list()\n",
        "        path.append(intersecting_node)\n",
        "        PATH_L.append(intersecting_node)\n",
        "        i = intersecting_node\n",
        "         \n",
        "        while i != src:\n",
        "            path.append(self.src_parent[i])\n",
        "            PATH_L.append(self.src_parent[i])\n",
        "            i = self.src_parent[i]\n",
        "             \n",
        "        path = path[::-1]\n",
        "        i = intersecting_node\n",
        "         \n",
        "        while i != dest:\n",
        "            path.append(self.dest_parent[i])\n",
        "            PATH_R.append(self.dest_parent[i])\n",
        "            i = self.dest_parent[i]\n",
        "             \n",
        "\n",
        "        #Here we create the array that has the\n",
        "        #path we want to use. However, this array\n",
        "        #will contain deplicates\n",
        "\n",
        "        #The array is appended this way so that\n",
        "        #there is no changing of what the path is\n",
        "        PATH_L2 = reversed(PATH_L)\n",
        "        for i in PATH_L2:\n",
        "          TRUE_PATH_ARRAY.append(i)\n",
        "        \n",
        "        for i in PATH_R:       \n",
        "          TRUE_PATH_ARRAY.append(i)\n",
        "      \n",
        "        #Checking to see if need to take the floor\n",
        "        #of a number divisible by 1000 to get base\n",
        "        #node number; meant for the added nodes we \n",
        "        #added based on the weigh of the edge\n",
        "        for i in TRUE_PATH_ARRAY:\n",
        "\n",
        "          #We use *1000 for this case so anything\n",
        "          #above 9999 means 10000+\n",
        "          if i > 9999:\n",
        "            Path_Array_Node_Numbers.append(i//10000)\n",
        "\n",
        "          else: #normal node\n",
        "            Path_Array_Node_Numbers.append(i)\n",
        "          \n",
        "\n",
        "        #Removing duplicates from list\n",
        "        for x in Path_Array_Node_Numbers:\n",
        "          if x not in Final_Path_Array:\n",
        "            Final_Path_Array.append(x)\n",
        "\n",
        "\n",
        "        #Print the complete and final path \n",
        "        print(\"Path Determined As:\")\n",
        "        print(' - '.join(map(str, Final_Path_Array))) \n",
        "\n",
        "        #Testing Long Path Non-Simplified\n",
        "        #Keep Commented Out\n",
        "        #path = list(map(str, path))   \n",
        "        #print(' '.join(path))\n",
        "        \n",
        "     \n",
        "    # Function for bidirectional searching\n",
        "    def bidirectional_search(self, src, dest):\n",
        "         \n",
        "        # Add source to queue and mark\n",
        "        # visited as True and add its\n",
        "        # parent as -1\n",
        "        self.src_queue.append(src)\n",
        "        self.src_visited[src] = True\n",
        "        self.src_parent[src] = -1\n",
        "         \n",
        "        # Add destination to queue and\n",
        "        # mark visited as True and add\n",
        "        # its parent as -1\n",
        "        self.dest_queue.append(dest)\n",
        "        self.dest_visited[dest] = True\n",
        "        self.dest_parent[dest] = -1\n",
        " \n",
        "        while self.src_queue and self.dest_queue:\n",
        "             \n",
        "            # BFS in forward direction from\n",
        "            # Source Vertex\n",
        "            self.bfs(direction = 'forward')\n",
        "             \n",
        "            # BFS in reverse direction\n",
        "            # from Destination Vertex\n",
        "            self.bfs(direction = 'backward')\n",
        "             \n",
        "            # Check for intersecting vertex\n",
        "            intersecting_node = self.is_intersecting()\n",
        "             \n",
        "            # If intersecting vertex exists\n",
        "            # then path from source to\n",
        "            # destination exists\n",
        "            if intersecting_node != -1:\n",
        "                print(f\"Path exists between {src} and {dest}\")\n",
        "                if intersecting_node > 10000:\n",
        "                  print(f\"Intersection at : \", (intersecting_node//10000))\n",
        "                else:\n",
        "                  print(f\"Intersection at : {intersecting_node}\")\n",
        "                self.print_path(intersecting_node,\n",
        "                                src, dest)\n",
        "                \n",
        "                return 1\n",
        "        return -1"
      ],
      "execution_count": 493,
      "outputs": []
    },
    {
      "cell_type": "markdown",
      "metadata": {
        "id": "HZt8inTTeCma"
      },
      "source": [
        "###Libraries"
      ]
    },
    {
      "cell_type": "code",
      "metadata": {
        "id": "AxZ-bOlq2byX"
      },
      "source": [
        "#importing libraries here\n",
        "import pandas as pd\n",
        "from math import floor"
      ],
      "execution_count": 494,
      "outputs": []
    },
    {
      "cell_type": "markdown",
      "metadata": {
        "id": "p3e4Tf7aeGcv"
      },
      "source": [
        "###Pulling CSV Data"
      ]
    },
    {
      "cell_type": "code",
      "metadata": {
        "id": "BWnzU6Fmtmo7",
        "colab": {
          "base_uri": "https://localhost:8080/",
          "height": 201
        },
        "outputId": "3845c0fe-353b-4495-d607-c8efcf4e066b"
      },
      "source": [
        "#pulling from the github public file\n",
        "CSV_DATA = pd.read_csv('https://raw.githubusercontent.com/DicheDiez10/TestProject/main/CSCI_174_Nodes_and_Weights.csv')\n",
        "\n",
        "#output first 5 rows of data\n",
        "CSV_DATA.head()\n"
      ],
      "execution_count": 495,
      "outputs": [
        {
          "output_type": "execute_result",
          "data": {
            "text/html": [
              "<div>\n",
              "<style scoped>\n",
              "    .dataframe tbody tr th:only-of-type {\n",
              "        vertical-align: middle;\n",
              "    }\n",
              "\n",
              "    .dataframe tbody tr th {\n",
              "        vertical-align: top;\n",
              "    }\n",
              "\n",
              "    .dataframe thead th {\n",
              "        text-align: right;\n",
              "    }\n",
              "</style>\n",
              "<table border=\"1\" class=\"dataframe\">\n",
              "  <thead>\n",
              "    <tr style=\"text-align: right;\">\n",
              "      <th></th>\n",
              "      <th>Start_Node</th>\n",
              "      <th>End_Node</th>\n",
              "      <th>Edge_Weight_Seconds</th>\n",
              "    </tr>\n",
              "  </thead>\n",
              "  <tbody>\n",
              "    <tr>\n",
              "      <th>0</th>\n",
              "      <td>1</td>\n",
              "      <td>2</td>\n",
              "      <td>1</td>\n",
              "    </tr>\n",
              "    <tr>\n",
              "      <th>1</th>\n",
              "      <td>1</td>\n",
              "      <td>3</td>\n",
              "      <td>3</td>\n",
              "    </tr>\n",
              "    <tr>\n",
              "      <th>2</th>\n",
              "      <td>3</td>\n",
              "      <td>4</td>\n",
              "      <td>5</td>\n",
              "    </tr>\n",
              "    <tr>\n",
              "      <th>3</th>\n",
              "      <td>2</td>\n",
              "      <td>4</td>\n",
              "      <td>5</td>\n",
              "    </tr>\n",
              "    <tr>\n",
              "      <th>4</th>\n",
              "      <td>3</td>\n",
              "      <td>7</td>\n",
              "      <td>1</td>\n",
              "    </tr>\n",
              "  </tbody>\n",
              "</table>\n",
              "</div>"
            ],
            "text/plain": [
              "   Start_Node  End_Node  Edge_Weight_Seconds\n",
              "0           1         2                    1\n",
              "1           1         3                    3\n",
              "2           3         4                    5\n",
              "3           2         4                    5\n",
              "4           3         7                    1"
            ]
          },
          "metadata": {},
          "execution_count": 495
        }
      ]
    },
    {
      "cell_type": "code",
      "metadata": {
        "id": "DQr7cEx32yCq",
        "colab": {
          "base_uri": "https://localhost:8080/"
        },
        "outputId": "edfaca65-da20-402c-e43f-4976a735451e"
      },
      "source": [
        "#Setting the CSV data to a list form\n",
        "CSV_DATA_LIST = CSV_DATA.values.tolist()\n",
        "\n",
        "#Output to test we have our values in sets of triplet tuples\n",
        "for x in CSV_DATA_LIST:\n",
        "  print(x)"
      ],
      "execution_count": 496,
      "outputs": [
        {
          "output_type": "stream",
          "name": "stdout",
          "text": [
            "[1, 2, 1]\n",
            "[1, 3, 3]\n",
            "[3, 4, 5]\n",
            "[2, 4, 5]\n",
            "[3, 7, 1]\n",
            "[2, 6, 1]\n",
            "[4, 5, 5]\n",
            "[5, 6, 5]\n",
            "[4, 7, 5]\n",
            "[7, 6, 1]\n"
          ]
        }
      ]
    },
    {
      "cell_type": "code",
      "metadata": {
        "id": "EgJ6k862vi4c",
        "colab": {
          "base_uri": "https://localhost:8080/"
        },
        "outputId": "ca9c83a0-e9ef-4222-de07-9cd8797c290e"
      },
      "source": [
        "print (CSV_DATA_LIST)"
      ],
      "execution_count": 497,
      "outputs": [
        {
          "output_type": "stream",
          "name": "stdout",
          "text": [
            "[[1, 2, 1], [1, 3, 3], [3, 4, 5], [2, 4, 5], [3, 7, 1], [2, 6, 1], [4, 5, 5], [5, 6, 5], [4, 7, 5], [7, 6, 1]]\n"
          ]
        }
      ]
    },
    {
      "cell_type": "code",
      "metadata": {
        "id": "_B7u2cZL4wmO",
        "colab": {
          "base_uri": "https://localhost:8080/"
        },
        "outputId": "fe1c3972-343c-4a39-81e5-5e7add3e539c"
      },
      "source": [
        "#Now we place the start_node and end_note into their respective arrays\n",
        "\n",
        "#Setting up initial nodes\n",
        "Start_Node_Array = []\n",
        "End_Node_Array = []\n",
        "for a_tuple in CSV_DATA_LIST:\n",
        "    Start_Node_Array.append(a_tuple[0])\n",
        "    End_Node_Array.append(a_tuple[1])\n",
        "\n",
        "#Outputting our checked results\n",
        "print (\"Start Node Array:\")\n",
        "print (Start_Node_Array)\n",
        "\n",
        "print (\"End Node Array:\")\n",
        "print (End_Node_Array)"
      ],
      "execution_count": 498,
      "outputs": [
        {
          "output_type": "stream",
          "name": "stdout",
          "text": [
            "Start Node Array:\n",
            "[1, 1, 3, 2, 3, 2, 4, 5, 4, 7]\n",
            "End Node Array:\n",
            "[2, 3, 4, 4, 7, 6, 5, 6, 7, 6]\n"
          ]
        }
      ]
    },
    {
      "cell_type": "code",
      "metadata": {
        "id": "EYQk5qFL5r4m",
        "colab": {
          "base_uri": "https://localhost:8080/"
        },
        "outputId": "a7a52ad9-391e-47b1-df55-aaade587db50"
      },
      "source": [
        "#Combined list of start_node and end_node\n",
        "Start_and_End_Nodes_Array = Start_Node_Array + End_Node_Array\n",
        "\n",
        "print(Start_and_End_Nodes_Array)"
      ],
      "execution_count": 499,
      "outputs": [
        {
          "output_type": "stream",
          "name": "stdout",
          "text": [
            "[1, 1, 3, 2, 3, 2, 4, 5, 4, 7, 2, 3, 4, 4, 7, 6, 5, 6, 7, 6]\n"
          ]
        }
      ]
    },
    {
      "cell_type": "code",
      "metadata": {
        "id": "bjkOZEpi8FKd",
        "colab": {
          "base_uri": "https://localhost:8080/"
        },
        "outputId": "22fe3092-1019-4882-9b1e-fb95ee997910"
      },
      "source": [
        "# Now we need to take the unique values\n",
        "# This will get us the number of nodes in the list\n",
        "Unique_Nodes_Filtered = set(Start_and_End_Nodes_Array)\n",
        "\n",
        "#Changing back to a list\n",
        "Unique_Nodes_Array = list(Unique_Nodes_Filtered)\n",
        "\n",
        "#Number of nodes\n",
        "Num_Nodes = len(Unique_Nodes_Array)\n",
        "\n",
        "print(Unique_Nodes_Filtered)\n",
        "print(Unique_Nodes_Array)\n",
        "print(Num_Nodes)"
      ],
      "execution_count": 500,
      "outputs": [
        {
          "output_type": "stream",
          "name": "stdout",
          "text": [
            "{1, 2, 3, 4, 5, 6, 7}\n",
            "[1, 2, 3, 4, 5, 6, 7]\n",
            "7\n"
          ]
        }
      ]
    },
    {
      "cell_type": "code",
      "metadata": {
        "id": "FSt9ZaH-9A8F"
      },
      "source": [
        "# Setting up the forms\n",
        "# Can select start and end node locations\n",
        "\n",
        "Form_Start_Node_Text = \"e\" #@param [\"a\", \"b\", \"c\", \"d\", \"e\", \"f\", \"g\"]\n",
        "Form_End_Node_Text   = \"c\" #@param [\"a\", \"b\", \"c\", \"d\", \"e\", \"f\", \"g\"]"
      ],
      "execution_count": 501,
      "outputs": []
    },
    {
      "cell_type": "code",
      "metadata": {
        "id": "Ce4jlcQZDNGs",
        "colab": {
          "base_uri": "https://localhost:8080/"
        },
        "outputId": "a32e79f2-2578-43b6-e98d-404152c2cad4"
      },
      "source": [
        "#Set up switch to pair text with node number\n",
        "# Will need to fix this section with building names\n",
        "start_node_number = {\n",
        "  \"a\": 1,\n",
        "  \"b\": 2,\n",
        "  \"c\": 3,\n",
        "  \"d\": 4,\n",
        "  \"e\": 5,\n",
        "  \"f\": 6,\n",
        "  \"g\": 7\n",
        "}\n",
        "\n",
        "end_node_number = {\n",
        "  \"a\": 1,\n",
        "  \"b\": 2,\n",
        "  \"c\": 3,\n",
        "  \"d\": 4,\n",
        "  \"e\": 5,\n",
        "  \"f\": 6,\n",
        "  \"g\": 7\n",
        "}\n",
        "\n",
        "expected_start_node = start_node_number.get(Form_Start_Node_Text, \"Invalid Source\")\n",
        "expected_end_node   = end_node_number.get(Form_End_Node_Text, \"Invalid Source\")\n",
        "\n",
        "print(\"Start Node: \", expected_start_node)\n",
        "print(\"End Node:   \", expected_end_node)"
      ],
      "execution_count": 502,
      "outputs": [
        {
          "output_type": "stream",
          "name": "stdout",
          "text": [
            "Start Node:  5\n",
            "End Node:    3\n"
          ]
        }
      ]
    },
    {
      "cell_type": "code",
      "metadata": {
        "id": "5Ye3Ho6jIDUb"
      },
      "source": [
        "#set variable to create the new graph we will use\n",
        "#graph creating function needs to split the edges into even\n",
        "\n",
        "def createGraphFromWeightedInput (number_of_nodes , CSV_Info):\n",
        "  #Have no print statements inside or else they will be called\n",
        "  #print(\"HE\")\n",
        "  #init for the graph\n",
        "  #define max number of nodes for the case\n",
        "  #that every node is connected to every other node\n",
        "  init_graph_base = BidirectionalSearch(number_of_nodes*(number_of_nodes - 1)* 10000)\n",
        "\n",
        "  for x in CSV_Info:\n",
        "    #print(x, x[0],x[1],x[2])\n",
        "\n",
        "    #if weight is > 1 then we need to split \n",
        "    #into x amount of edges, else add edge normally\n",
        "    #fix 10000 to be based on the number of digits in max number and as a variable\n",
        "    if x[2] > 1:\n",
        "      init_graph_base.add_edge(x[0], (x[0] * 10000) + (x[1] * 100) + 1)\n",
        "\n",
        "      #range of 2 - (weight-1)\n",
        "      for i in range(2, x[2]):\n",
        "        init_graph_base.add_edge((x[0] * 10000) + (x[1] * 100) + (i-1), (x[0] * 10000) + (x[1] * 100) + i)\n",
        "\n",
        "      #appending the 'End_Node' to the last created node\n",
        "      init_graph_base.add_edge((x[0] * 10000) + (x[1] * 100) + (x[2] -1), x[1])\n",
        "\n",
        "      #print(\"Greater\")\n",
        "    else:\n",
        "      init_graph_base.add_edge(x[0], x[1])\n",
        "      #print(\"Equal\")\n",
        "\n",
        "  return init_graph_base\n",
        "\n",
        "#setting BFS_Graph based on parameters of \n",
        "#number of nodes and passing in the CSV information\n",
        "BFS_Graph = createGraphFromWeightedInput(Num_Nodes, CSV_DATA_LIST)"
      ],
      "execution_count": 503,
      "outputs": []
    },
    {
      "cell_type": "code",
      "metadata": {
        "id": "pXsci2YXc3fQ",
        "colab": {
          "base_uri": "https://localhost:8080/"
        },
        "outputId": "f88301da-2cc3-4605-c4d8-fec066d44dd3"
      },
      "source": [
        "outputTest = BFS_Graph.bidirectional_search(expected_start_node, expected_end_node)\n",
        "\n",
        "if outputTest == -1:\n",
        "  print(\"Path does not exist\")"
      ],
      "execution_count": 504,
      "outputs": [
        {
          "output_type": "stream",
          "name": "stdout",
          "text": [
            "Path exists between 5 and 3\n",
            "Intersection at :  5\n",
            "Path Determined As:\n",
            "5 - 6 - 7 - 3\n"
          ]
        }
      ]
    }
  ]
}